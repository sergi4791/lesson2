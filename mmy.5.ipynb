{
 "cells": [
  {
   "cell_type": "code",
   "execution_count": 1,
   "metadata": {
    "collapsed": true
   },
   "outputs": [
    {
     "name": "stdout",
     "output_type": "stream",
     "text": [
      "Это одно из первых пяти простых чисел.\n"
     ]
    }
   ],
   "source": [
    "# Запрашиваем у пользователя целое число\n",
    "x = int(input(\"Введите целое число: \"))\n",
    "# Определяем, входит ли значение в число первых пяти простых чисел\n",
    "if x == 2 or x == 3 or x == 5 or x == 7 or x == 11:\n",
    " print(\"Это одно из первых пяти простых чисел.\")\n",
    "else:\n",
    " print(\"Это не одно из первых пяти простых чисел.\")"
   ]
  },
  {
   "cell_type": "code",
   "execution_count": 9,
   "outputs": [
    {
     "name": "stdout",
     "output_type": "stream",
     "text": [
      "Нечетное число\n"
     ]
    }
   ],
   "source": [
    "number = int(input(\"Введите число: \"))\n",
    "if number % 2 == 0 :\n",
    "    print(\"Четное число\")\n",
    "elif number % 2 != 0 :\n",
    "    print(\"Нечетное число\")\n",
    "else:\n",
    "    print(\"Введен 0\")"
   ],
   "metadata": {
    "collapsed": false
   }
  },
  {
   "cell_type": "code",
   "execution_count": 14,
   "outputs": [
    {
     "name": "stdout",
     "output_type": "stream",
     "text": [
      "34\n"
     ]
    }
   ],
   "source": [
    "a = int(input())\n",
    "\n",
    "if a <= 0:\n",
    "\n",
    "   print('Введено неверное число')\n",
    "\n",
    "elif a == 1:\n",
    "\n",
    "   print(10.5)\n",
    "\n",
    "elif a == 2:\n",
    "\n",
    "   print(30)\n",
    "\n",
    "else:\n",
    "\n",
    "   print(30+((a-2)*4))"
   ],
   "metadata": {
    "collapsed": false
   }
  },
  {
   "cell_type": "code",
   "execution_count": 22,
   "outputs": [
    {
     "name": "stdout",
     "output_type": "stream",
     "text": [
      "Вы ввели гласную букву\n"
     ]
    }
   ],
   "source": [
    "bukva = input(\"Введите букву латинского алфавита: \")\n",
    "if bukva in [\"a\", \"e\", \"i\", \"o\", \"u\"]:\n",
    "    print(\"Вы ввели гласную букву\")\n",
    "elif bukva == \"y\":\n",
    "    print(\"эта буква может быть как гласной, так и согласной\")\n",
    "else:\n",
    "    print(\"Вы ввели coгласную букву\")"
   ],
   "metadata": {
    "collapsed": false
   }
  },
  {
   "cell_type": "code",
   "execution_count": null,
   "outputs": [],
   "source": [],
   "metadata": {
    "collapsed": false
   }
  },
  {
   "cell_type": "code",
   "execution_count": null,
   "outputs": [],
   "source": [
    "# Определяем, является буква гласной или согласной\n",
    "#\n",
    "# Запрашиваем ввод буквы с клавиатуры\n",
    "letter = input(\"Введите букву латинского алфавита: \")\n",
    "# Классифицируем букву и выводим результат\n",
    "if letter == \"a\" or letter == \"e\" or \\\n",
    " letter == \"i\" or letter == \"o\" or \\\n",
    " letter == \"u\":\n",
    " print(\"Это гласная буква.\")\n",
    "elif letter == \"y\":\n",
    " print(\"Иногда буква гласная, иногда согласная.\")\n",
    "else:\n",
    " print(\"Это согласная буква.\")"
   ],
   "metadata": {
    "collapsed": false
   }
  },
  {
   "cell_type": "code",
   "execution_count": 46,
   "outputs": [
    {
     "name": "stdout",
     "output_type": "stream",
     "text": [
      "this shape is a square\n"
     ]
    }
   ],
   "source": [
    "side = int(input(\"Enter the number of sides of the figure: \"))\n",
    "\n",
    "if side <= 2 or side >= 6:\n",
    "    print(\"Error\")\n",
    "elif side == 3:\n",
    "    print(\"this shape is a triangle\")\n",
    "elif side == 4:\n",
    "    print(\"this shape is a square\")\n",
    "elif side == 5:\n",
    "    print(\"this shape is a pentagon\")\n",
    "else:\n",
    "    print(\"The entered number of sides is not supported by the program\")\n",
    "\n",
    "\n"
   ],
   "metadata": {
    "collapsed": false
   }
  },
  {
   "cell_type": "code",
   "execution_count": null,
   "outputs": [],
   "source": [],
   "metadata": {
    "collapsed": false
   }
  },
  {
   "cell_type": "code",
   "execution_count": null,
   "outputs": [],
   "source": [],
   "metadata": {
    "collapsed": false
   }
  },
  {
   "cell_type": "code",
   "execution_count": 40,
   "outputs": [
    {
     "name": "stdout",
     "output_type": "stream",
     "text": [
      "Введенное количество сторон не поддерживается программой.\n"
     ]
    }
   ],
   "source": [
    "# Запрашиваем у пользователя количество сторон\n",
    "nsides = int(input(\"Введите количество сторон фигуры: \"))\n",
    "# Определяем вид фигуры, оставляя его пустым, если введено некорректное число\n",
    "name = \"\"\n",
    "if nsides == 3:\n",
    " name = \"треугольник\"\n",
    "elif nsides == 4:\n",
    " name = \"прямоугольник\"\n",
    "elif nsides == 5:\n",
    " name = \"пятиугольник\"\n",
    "elif nsides == 6:\n",
    " name = \"шестиугольник\"\n",
    "elif nsides == 7:\n",
    " name = \"семиугольник\"\n",
    "elif nsides == 8:\n",
    " name = \"восьмиугольник\"\n",
    "elif nsides == 9:\n",
    " name = \"девятиугольник\"\n",
    "elif nsides ==# Запрашиваем ввод у пользователя\n",
    "x = int(input(\"Введите целое число (0 для выхода): \"))\n",
    "# Запускаем цикл, пока пользователь не введет ноль\n",
    "while x != 0:\n",
    " # Положительное или отрицательное?\n",
    " if x > 0:\n",
    " print(\"Это положительное число.\")\n",
    " else:\n",
    " print(\"Это отрицательное число.\")\n",
    " # Запрашиваем очередное значение\n",
    " x = int(input(\"Введите целое число (0 для выхода): \"))10:\n",
    " name = \"десятиугольник\"\n",
    "# Выводим ошибку ввода\n",
    "if name == \"\":\n",
    " print(\"Введенное количество сторон не поддерживается программой.\")\n",
    "else:\n",
    " print(\"Эта фигура:\", name)\n"
   ],
   "metadata": {
    "collapsed": false
   }
  },
  {
   "cell_type": "code",
   "execution_count": 48,
   "outputs": [
    {
     "name": "stdout",
     "output_type": "stream",
     "text": [
      "Это положительное число.\n",
      "Это положительное число.\n"
     ]
    }
   ],
   "source": [
    "# Запрашиваем ввод у пользователя\n",
    "x = int(input(\"Введите целое число (0 для выхода): \"))\n",
    "# Запускаем цикл, пока пользователь не введет ноль\n",
    "while x != 0:\n",
    " # Положительное или отрицательное?\n",
    "    if x > 0:\n",
    "        print(\"Это положительное число.\")\n",
    "    else:\n",
    "        print(\"Это отрицательное число.\")\n",
    " # Запрашиваем очередное значение\n",
    "    x = int(input(\"Введите целое число (0 для выхода): \"))"
   ],
   "metadata": {
    "collapsed": false
   }
  },
  {
   "cell_type": "code",
   "execution_count": 52,
   "outputs": [
    {
     "name": "stdout",
     "output_type": "stream",
     "text": [
      "Все числа, кратные трем, вплоть до 2 :\n"
     ]
    }
   ],
   "source": [
    "# Запрашиваем у пользователя верхнюю границу\n",
    "limit = int(input(\"Введите целое число: \"))\n",
    "# Выводим все числа, кратные трем, вплоть до указанного пользователем значения\n",
    "print(\"Все числа, кратные трем, вплоть до\", limit, \":\")\n",
    "for i in range(3, limit + 1, 3):\n",
    " print(i)"
   ],
   "metadata": {
    "collapsed": false
   }
  },
  {
   "cell_type": "code",
   "execution_count": 54,
   "outputs": [
    {
     "name": "stdout",
     "output_type": "stream",
     "text": [
      "rrr\n",
      "rrr\n",
      "rrr\n"
     ]
    }
   ],
   "source": [
    "# Запрашиваем у пользователя сообщение\n",
    "message = input(\"Введите сообщение (оставьте его пустым для выхода): \")\n",
    "# Начало цикла, пока сообщение не станет пустым\n",
    "while message != \"\":\n",
    " # Запрашиваем количество повторений\n",
    " n = int(input(\"Сколько раз повторить сообщение? \"))\n",
    " # Показываем сообщение заданное количество раз\n",
    " for i in range(n):\n",
    "     print(message)\n",
    " # Запрашиваем следующее сообщение\n",
    " message = input(\"Введите сообщение (оставьте его пустым для выхода): \")"
   ],
   "metadata": {
    "collapsed": false
   }
  },
  {
   "cell_type": "code",
   "execution_count": 55,
   "outputs": [
    {
     "name": "stdout",
     "output_type": "stream",
     "text": [
      "3.0\n",
      "3.0\n",
      "3.0\n",
      "3.0\n",
      "5.0\n",
      "6.0\n"
     ]
    }
   ],
   "source": [
    "# Создаем пустой список\n",
    "values = []\n",
    "# Запрашиваем числа у пользователя и собираем список, пока он не оставит строку пустой\n",
    "line = input(\"Введите число (Enter для завершения): \")\n",
    "while line != \"\":\n",
    "    num = float(line)\n",
    "    values.append(num)\n",
    "    line = input(\"Введите число (Enter для завершения: \")\n",
    "# Сортируем список по возрастанию\n",
    "values.sort()\n",
    "# Отображаем значения\n",
    "for v in values:\n",
    "    print(v)"
   ],
   "metadata": {
    "collapsed": false
   }
  },
  {
   "cell_type": "code",
   "execution_count": 58,
   "outputs": [
    {
     "name": "stdout",
     "output_type": "stream",
     "text": [
      "0.0\n",
      "2.0\n",
      "5.0\n",
      "6.0\n",
      "7.0\n",
      "8.0\n",
      "9.0\n"
     ]
    }
   ],
   "source": [
    "str_1 = []\n",
    "sps = input(\"Введите число, (enter для завершения): \")\n",
    "while sps != \"\":\n",
    "    num = float(sps)\n",
    "    str_1.append(num)\n",
    "    sps = input(\"Введите число (enter для завершения: \")\n",
    "str_1.sort()\n",
    "for v in str_1:\n",
    "    print(v)\n"
   ],
   "metadata": {
    "collapsed": false
   }
  },
  {
   "cell_type": "code",
   "execution_count": null,
   "outputs": [],
   "source": [],
   "metadata": {
    "collapsed": false
   }
  }
 ],
 "metadata": {
  "kernelspec": {
   "display_name": "Python 3",
   "language": "python",
   "name": "python3"
  },
  "language_info": {
   "codemirror_mode": {
    "name": "ipython",
    "version": 2
   },
   "file_extension": ".py",
   "mimetype": "text/x-python",
   "name": "python",
   "nbconvert_exporter": "python",
   "pygments_lexer": "ipython2",
   "version": "2.7.6"
  }
 },
 "nbformat": 4,
 "nbformat_minor": 0
}
