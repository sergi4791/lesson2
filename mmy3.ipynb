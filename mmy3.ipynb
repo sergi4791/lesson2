{
 "cells": [
  {
   "cell_type": "code",
   "execution_count": 1,
   "metadata": {
    "collapsed": true
   },
   "outputs": [
    {
     "name": "stdout",
     "output_type": "stream",
     "text": [
      "h\n",
      "e\n",
      "s\n",
      "s\n",
      "o\n"
     ]
    }
   ],
   "source": [
    "word = \"hello\"\n",
    "for char in word:\n",
    "    if char == \"l\":\n",
    "        print(\"s\")\n",
    "    else:\n",
    "        print(char)"
   ]
  },
  {
   "cell_type": "code",
   "execution_count": null,
   "outputs": [],
   "source": [
    "back_counter = 99\n",
    "end_value = 0\n",
    "while back_counter > end_value:\n",
    "    if back_counter % 5 == 0:\n",
    "        print(back_counter)\n",
    "    back_counter -= 1\n"
   ],
   "metadata": {
    "collapsed": false,
    "pycharm": {
     "is_executing": true
    }
   }
  }
 ],
 "metadata": {
  "kernelspec": {
   "display_name": "Python 3",
   "language": "python",
   "name": "python3"
  },
  "language_info": {
   "codemirror_mode": {
    "name": "ipython",
    "version": 2
   },
   "file_extension": ".py",
   "mimetype": "text/x-python",
   "name": "python",
   "nbconvert_exporter": "python",
   "pygments_lexer": "ipython2",
   "version": "2.7.6"
  }
 },
 "nbformat": 4,
 "nbformat_minor": 0
}
