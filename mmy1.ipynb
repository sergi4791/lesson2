{
 "cells": [
  {
   "cell_type": "code",
   "execution_count": 2,
   "metadata": {
    "collapsed": true
   },
   "outputs": [
    {
     "name": "stdout",
     "output_type": "stream",
     "text": [
      "Неправильний формат Введіть знову\n"
     ]
    }
   ],
   "source": [
    "x = input(\"Введіть номер кімнати\")\n",
    "try:\n",
    "    y = int(x)\n",
    "except:\n",
    "    y = 0\n",
    "if y > 0:\n",
    "    print(\"Дякуємо,сніданок буде чере 5 хв.\")\n",
    "else:\n",
    "    print(\"Неправильний формат Введіть знову\")"
   ]
  }
 ],
 "metadata": {
  "kernelspec": {
   "display_name": "Python 3",
   "language": "python",
   "name": "python3"
  },
  "language_info": {
   "codemirror_mode": {
    "name": "ipython",
    "version": 2
   },
   "file_extension": ".py",
   "mimetype": "text/x-python",
   "name": "python",
   "nbconvert_exporter": "python",
   "pygments_lexer": "ipython2",
   "version": "2.7.6"
  }
 },
 "nbformat": 4,
 "nbformat_minor": 0
}
